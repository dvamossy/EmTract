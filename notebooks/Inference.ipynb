{
 "cells": [
  {
   "cell_type": "markdown",
   "id": "4369555d",
   "metadata": {},
   "source": [
    "Must run the following:"
   ]
  },
  {
   "cell_type": "code",
   "execution_count": 1,
   "id": "42aca5ed",
   "metadata": {},
   "outputs": [
    {
     "name": "stdout",
     "output_type": "stream",
     "text": [
      "D:\\Research\\FinancialMarkets\\Emotions\\Emtract\\Training\\EmTract\n"
     ]
    }
   ],
   "source": [
    "!git clone https://github.com/dvamossy/EmTract.git\n",
    "%cd EmTract\n",
    "!pip install -r requirements.txt "
   ]
  },
  {
   "cell_type": "markdown",
   "id": "82bcdd5e",
   "metadata": {},
   "source": [
    "Text Cleaner for unprocessed text"
   ]
  },
  {
   "cell_type": "code",
   "execution_count": 2,
   "id": "55a5dd5b",
   "metadata": {},
   "outputs": [
    {
     "name": "stderr",
     "output_type": "stream",
     "text": [
      "D:\\Research\\FinancialMarkets\\Emotions\\Emtract\\Training\\EmTract\\emtract\\processors\\cleaning.py:68: ParserWarning: Falling back to the 'python' engine because the 'c' engine does not support regex separators (separators > 1 char and different from '\\s+' are interpreted as regex); you can avoid this warning by specifying engine='python'.\n",
      "  symspell_list = pd.read_csv(\n"
     ]
    },
    {
     "data": {
      "text/plain": [
       "'soo well'"
      ]
     },
     "execution_count": 2,
     "metadata": {},
     "output_type": "execute_result"
    }
   ],
   "source": [
    "from emtract.processors.cleaning import clean_text\n",
    "# Illustrate text cleaning\n",
    "clean_text(\"soooooo well\", segment_words=False)"
   ]
  },
  {
   "cell_type": "markdown",
   "id": "c4ba6abf",
   "metadata": {},
   "source": [
    "Option I"
   ]
  },
  {
   "cell_type": "code",
   "execution_count": 3,
   "id": "6580f9af",
   "metadata": {},
   "outputs": [
    {
     "name": "stderr",
     "output_type": "stream",
     "text": [
      "C:\\Users\\Owner\\anaconda3\\lib\\site-packages\\transformers\\pipelines\\text_classification.py:104: UserWarning: `return_all_scores` is now deprecated,  if want a similar funcionality use `top_k=None` instead of `return_all_scores=True` or `top_k=1` instead of `return_all_scores=False`.\n",
      "  warnings.warn(\n"
     ]
    },
    {
     "data": {
      "text/plain": [
       "[[{'label': 'Neutral', 'score': 0.0034543664660304785},\n",
       "  {'label': 'Happy', 'score': 0.9890496730804443},\n",
       "  {'label': 'Sad', 'score': 0.0012023887829855084},\n",
       "  {'label': 'Anger', 'score': 0.0015717606293037534},\n",
       "  {'label': 'Disgust', 'score': 0.0012307625729590654},\n",
       "  {'label': 'Surprise', 'score': 0.0021428591571748257},\n",
       "  {'label': 'Fear', 'score': 0.0013480583438649774}]]"
      ]
     },
     "execution_count": 3,
     "metadata": {},
     "output_type": "execute_result"
    }
   ],
   "source": [
    "from transformers import pipeline\n",
    "classifier = pipeline(\"text-classification\", model=\"vamossyd/emtract-distilbert-base-uncased-emotion\", return_all_scores=True)\n",
    "classifier(\"i love this!\")"
   ]
  },
  {
   "cell_type": "markdown",
   "id": "b7a786ff",
   "metadata": {},
   "source": [
    "Option II"
   ]
  },
  {
   "cell_type": "code",
   "execution_count": 4,
   "id": "73a57240",
   "metadata": {},
   "outputs": [],
   "source": [
    "import torch\n",
    "import pandas as pd\n",
    "import numpy as np\n",
    "from transformers import AutoTokenizer, AutoModelForSequenceClassification, Trainer\n",
    "\n",
    "# Create class for data preparation\n",
    "class SimpleDataset:\n",
    "    def __init__(self, tokenized_texts):\n",
    "        self.tokenized_texts = tokenized_texts\n",
    "    \n",
    "    def __len__(self):\n",
    "        return len(self.tokenized_texts[\"input_ids\"])\n",
    "    \n",
    "    def __getitem__(self, idx):\n",
    "        return {k: v[idx] for k, v in self.tokenized_texts.items()}"
   ]
  },
  {
   "cell_type": "code",
   "execution_count": 5,
   "id": "30a7d99d",
   "metadata": {},
   "outputs": [],
   "source": [
    "input_path = \"PROVIDE_PATH_TO_DATA\"\n",
    "# data = pd.read_csv(input_path) # ASSUMING DATA IS IN CSV\n",
    "\n",
    "# If text is already cleaned:\n",
    "# texts = data.text.tolist() \n",
    "\n",
    "# Otherwise:\n",
    "# texts = data['text'].apply(clean_text).tolist() # \n",
    "\n",
    "# As an example:\n",
    "texts = ['i love this', 'i do not love you', 'to the moon 🚀']"
   ]
  },
  {
   "cell_type": "code",
   "execution_count": 6,
   "id": "f0854018",
   "metadata": {},
   "outputs": [
    {
     "data": {
      "text/html": [],
      "text/plain": [
       "<IPython.core.display.HTML object>"
      ]
     },
     "metadata": {},
     "output_type": "display_data"
    }
   ],
   "source": [
    "# load tokenizer and model, create trainer\n",
    "model_name = \"vamossyd/emtract-distilbert-base-uncased-emotion\"\n",
    "tokenizer = AutoTokenizer.from_pretrained(model_name)\n",
    "model = AutoModelForSequenceClassification.from_pretrained(model_name)\n",
    "trainer = Trainer(model=model)\n",
    "\n",
    "# Tokenize texts and create prediction data set\n",
    "tokenized_texts = tokenizer(texts, truncation=True, padding=True)\n",
    "pred_dataset = SimpleDataset(tokenized_texts)\n",
    "predictions = trainer.predict(pred_dataset)"
   ]
  },
  {
   "cell_type": "code",
   "execution_count": 7,
   "id": "f40026e0",
   "metadata": {},
   "outputs": [
    {
     "data": {
      "text/html": [
       "<div>\n",
       "<style scoped>\n",
       "    .dataframe tbody tr th:only-of-type {\n",
       "        vertical-align: middle;\n",
       "    }\n",
       "\n",
       "    .dataframe tbody tr th {\n",
       "        vertical-align: top;\n",
       "    }\n",
       "\n",
       "    .dataframe thead th {\n",
       "        text-align: right;\n",
       "    }\n",
       "</style>\n",
       "<table border=\"1\" class=\"dataframe\">\n",
       "  <thead>\n",
       "    <tr style=\"text-align: right;\">\n",
       "      <th></th>\n",
       "      <th>text</th>\n",
       "      <th>pred_label</th>\n",
       "      <th>anger</th>\n",
       "      <th>disgust</th>\n",
       "      <th>fear</th>\n",
       "      <th>happy</th>\n",
       "      <th>neutral</th>\n",
       "      <th>sad</th>\n",
       "      <th>surprise</th>\n",
       "    </tr>\n",
       "  </thead>\n",
       "  <tbody>\n",
       "    <tr>\n",
       "      <th>0</th>\n",
       "      <td>i love this</td>\n",
       "      <td>Happy</td>\n",
       "      <td>0.001747</td>\n",
       "      <td>0.001476</td>\n",
       "      <td>0.001656</td>\n",
       "      <td>0.989288</td>\n",
       "      <td>0.002194</td>\n",
       "      <td>0.001697</td>\n",
       "      <td>0.001942</td>\n",
       "    </tr>\n",
       "    <tr>\n",
       "      <th>1</th>\n",
       "      <td>i do not love you</td>\n",
       "      <td>Sad</td>\n",
       "      <td>0.235049</td>\n",
       "      <td>0.104266</td>\n",
       "      <td>0.116412</td>\n",
       "      <td>0.226152</td>\n",
       "      <td>0.012422</td>\n",
       "      <td>0.269355</td>\n",
       "      <td>0.036345</td>\n",
       "    </tr>\n",
       "    <tr>\n",
       "      <th>2</th>\n",
       "      <td>to the moon 🚀</td>\n",
       "      <td>Happy</td>\n",
       "      <td>0.011504</td>\n",
       "      <td>0.010536</td>\n",
       "      <td>0.054058</td>\n",
       "      <td>0.669854</td>\n",
       "      <td>0.201600</td>\n",
       "      <td>0.046615</td>\n",
       "      <td>0.005833</td>\n",
       "    </tr>\n",
       "  </tbody>\n",
       "</table>\n",
       "</div>"
      ],
      "text/plain": [
       "                text pred_label     anger   disgust      fear     happy   \n",
       "0        i love this      Happy  0.001747  0.001476  0.001656  0.989288  \\\n",
       "1  i do not love you        Sad  0.235049  0.104266  0.116412  0.226152   \n",
       "2      to the moon 🚀      Happy  0.011504  0.010536  0.054058  0.669854   \n",
       "\n",
       "    neutral       sad  surprise  \n",
       "0  0.002194  0.001697  0.001942  \n",
       "1  0.012422  0.269355  0.036345  \n",
       "2  0.201600  0.046615  0.005833  "
      ]
     },
     "execution_count": 7,
     "metadata": {},
     "output_type": "execute_result"
    }
   ],
   "source": [
    "# scores raw\n",
    "temp = (np.exp(predictions[0])/np.exp(predictions[0]).sum(-1,keepdims=True))\n",
    "preds = predictions.predictions.argmax(-1)\n",
    "labels = pd.Series(preds).map(model.config.id2label)\n",
    "\n",
    "# container\n",
    "anger = []\n",
    "disgust = []\n",
    "fear = []\n",
    "happy = []\n",
    "neutral = []\n",
    "sadness = []\n",
    "surprise = []\n",
    "\n",
    "# extract scores (as many entries as exist in pred_texts)\n",
    "for i in range(len(texts)):\n",
    "    anger.append(temp[i][3])\n",
    "    disgust.append(temp[i][4])\n",
    "    fear.append(temp[i][6])\n",
    "    happy.append(temp[i][1])\n",
    "    neutral.append(temp[i][0])\n",
    "    sadness.append(temp[i][2])\n",
    "    surprise.append(temp[i][5])\n",
    "    \n",
    "df = pd.DataFrame(list(zip(texts, labels, anger, disgust, fear, happy, neutral, sadness, surprise)), columns=['text','pred_label', 'anger', 'disgust', 'fear', 'happy', 'neutral', 'sad', 'surprise'])\n",
    "df.head()"
   ]
  },
  {
   "cell_type": "code",
   "execution_count": null,
   "id": "570c085d",
   "metadata": {},
   "outputs": [],
   "source": [
    "# save results to csv\n",
    "output_path = \"YOUR_FILENAME_EMOTIONS.csv\"  # name your output file\n",
    "# df.to_csv(YOUR_FILENAME)"
   ]
  }
 ],
 "metadata": {
  "kernelspec": {
   "display_name": "Python 3 (ipykernel)",
   "language": "python",
   "name": "python3"
  },
  "language_info": {
   "codemirror_mode": {
    "name": "ipython",
    "version": 3
   },
   "file_extension": ".py",
   "mimetype": "text/x-python",
   "name": "python",
   "nbconvert_exporter": "python",
   "pygments_lexer": "ipython3",
   "version": "3.10.9"
  }
 },
 "nbformat": 4,
 "nbformat_minor": 5
}
