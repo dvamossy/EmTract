{
 "cells": [
  {
   "cell_type": "markdown",
   "id": "200e1ef2",
   "metadata": {},
   "source": [
    "# Text2Emotion"
   ]
  },
  {
   "cell_type": "code",
   "execution_count": 9,
   "id": "5775a749",
   "metadata": {},
   "outputs": [],
   "source": [
    "# Now use \n",
    "import text2emotion as te\n",
    "import pandas as pd\n",
    "import numpy as np\n",
    "\n",
    "\n",
    "df = pd.read_parquet('../emtract/data/tagged_sample.parquet.snappy')\n",
    "df = df[df.label!=4]\n",
    "df['label'] = np.where(df.label > 4, df.label-1, df.label)\n",
    "\n",
    "def get_emotion(arg):\n",
    "    emotions = te.get_emotion(arg)\n",
    "    return [emotions['Happy'], emotions['Sad'], emotions['Angry'], emotions[\"Surprise\"], emotions['Fear']]"
   ]
  },
  {
   "cell_type": "code",
   "execution_count": null,
   "id": "cd8fe3c9",
   "metadata": {},
   "outputs": [],
   "source": [
    "import time\n",
    "start = time.time()\n",
    "df['emo'] = df['text'].apply(get_emotion)\n",
    "end = time.time()"
   ]
  },
  {
   "cell_type": "code",
   "execution_count": null,
   "id": "44d3260d",
   "metadata": {},
   "outputs": [],
   "source": [
    "df['neutral'] = df['emo'].apply(lambda x : 1 if sum(x)==0 else 0)\n",
    "df['happy'] = df['emo'].apply(lambda x : x[0]/sum(x) if sum(x)!=0 else 0)\n",
    "df['sad'] = df['emo'].apply(lambda x : x[1]/sum(x) if sum(x)!=0 else 0)\n",
    "df['anger'] = df['emo'].apply(lambda x : x[2]/sum(x) if sum(x)!=0 else 0)\n",
    "df['surprise'] =  df['emo'].apply(lambda x : x[3]/sum(x) if sum(x)!=0 else 0)\n",
    "df['fear'] =  df['emo'].apply(lambda x : x[4]/sum(x) if sum(x)!=0 else 0)\n",
    "df['pred'] = df['emo'].apply(lambda x: np.argmax(x)+1 if sum(x)!=0 else 0)"
   ]
  },
  {
   "cell_type": "code",
   "execution_count": null,
   "id": "ed4de12f",
   "metadata": {},
   "outputs": [],
   "source": [
    "print(log_loss(df.label.values, df[['neutral','happy','sad','anger','surprise','fear']].values))\n",
    "print(accuracy_score(df.label.values, df['pred'].values))\n",
    "# this seems really bad!"
   ]
  },
  {
   "cell_type": "code",
   "execution_count": null,
   "id": "54274104",
   "metadata": {},
   "outputs": [],
   "source": []
  }
 ],
 "metadata": {
  "kernelspec": {
   "display_name": "Python 3 (ipykernel)",
   "language": "python",
   "name": "python3"
  },
  "language_info": {
   "codemirror_mode": {
    "name": "ipython",
    "version": 3
   },
   "file_extension": ".py",
   "mimetype": "text/x-python",
   "name": "python",
   "nbconvert_exporter": "python",
   "pygments_lexer": "ipython3",
   "version": "3.8.8"
  }
 },
 "nbformat": 4,
 "nbformat_minor": 5
}
