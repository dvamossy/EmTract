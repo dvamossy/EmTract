{
 "cells": [
  {
   "cell_type": "code",
   "execution_count": null,
   "id": "d1c9f235",
   "metadata": {},
   "outputs": [],
   "source": [
    "import tensorflow as tf\n",
    "from tensorflow import keras\n",
    "import pandas as pd\n",
    "import pickle\n",
    "from tensorflow.keras.preprocessing.sequence import pad_sequences\n",
    "from tensorflow.keras.utils import to_categorical\n",
    "import numpy as np\n",
    "from sklearn.utils import shuffle\n",
    "model_sw = keras.models.load_model('../build/models/stocktwits_emotion.h5')\n",
    "model_tw = keras.models.load_model('../build/models/twitter_emotion.h5')\n",
    "seed_value = 0\n",
    "\n",
    "def prepare_test_data(test_data_source, tokenizer, max_sequence_length=30):\n",
    "    test_data = pd.read_parquet(test_data_source)\n",
    "    test_data = test_data[test_data.label!=4]\n",
    "    test_data = test_data.dropna(subset=['text'])\n",
    "    test_texts, test_labels = test_data.text.tolist(), test_data.label.tolist()\n",
    "    test_sequences = tokenizer.texts_to_sequences(test_texts)\n",
    "    test_data = pad_sequences(\n",
    "        test_sequences, padding='pre', maxlen=max_sequence_length)\n",
    "    test_labels = to_categorical(np.asarray(test_labels))\n",
    "    print('[+] Shape of test data tensor:', test_data.shape)\n",
    "    print('[+] Shape of test label tensor:', test_labels.shape)\n",
    "    return test_data, test_labels, test_texts\n",
    "\n",
    "# we take out disgust; since that's not available in Text2Emotion"
   ]
  },
  {
   "cell_type": "code",
   "execution_count": null,
   "id": "24d19cf3",
   "metadata": {},
   "outputs": [],
   "source": [
    "with open('data/tokenizer_stocktwits.pickle', 'rb') as handle:\n",
    "    tokenizer_sw = pickle.load(handle)\n",
    "with open('data/tokenizer_twitter.pickle', 'rb') as handle:\n",
    "    tokenizer_tw = pickle.load(handle)\n",
    "    \n",
    "data, labels, texts = prepare_test_data('../emtract/data/hand_tagged_sample.parquet.snappy', tokenizer_sw, max_sequence_length=30)\n",
    "data_tw, labels, texts = prepare_test_data('../emtract/data/hand_tagged_sample.parquet.snappy', tokenizer_tw, max_sequence_length=30)"
   ]
  },
  {
   "cell_type": "code",
   "execution_count": null,
   "id": "58450eac",
   "metadata": {},
   "outputs": [],
   "source": [
    "y_prob = model_sw.predict(data)\n",
    "y_prob_tw = model_tw.predict(data_tw)\n",
    "\n",
    "y_prob = np.concatenate([y_prob[:, :4], y_prob[:, 5:]], axis=1)\n",
    "y_prob_tw = np.concatenate([y_prob_tw[:, :4], y_prob_tw[:, 5:]], axis=1)\n",
    "labels = np.concatenate([labels[:, :4], labels[:, 5:]], axis=1)"
   ]
  },
  {
   "cell_type": "code",
   "execution_count": null,
   "id": "06fa7c72",
   "metadata": {},
   "outputs": [],
   "source": [
    "from sklearn.preprocessing import Normalizer\n",
    "y_prob = Normalizer(norm='l1').fit_transform(y_prob)\n",
    "y_prob_tw = Normalizer(norm='l1').fit_transform(y_prob_tw)\n",
    "y_pred = y_prob.argmax(axis=-1)\n",
    "y_pred_tw = y_prob_tw.argmax(axis=-1)"
   ]
  },
  {
   "cell_type": "code",
   "execution_count": null,
   "id": "c7fafbc7",
   "metadata": {},
   "outputs": [],
   "source": [
    "from sklearn.metrics import log_loss, accuracy_score\n",
    "print(log_loss(labels, y_prob))\n",
    "print(log_loss(labels, y_prob_tw)) # take out false 0s\n",
    "print(accuracy_score(labels.argmax(axis=-1), y_pred))\n",
    "print(accuracy_score(labels.argmax(axis=-1), y_pred_tw))"
   ]
  },
  {
   "cell_type": "markdown",
   "id": "200e1ef2",
   "metadata": {},
   "source": [
    "# Contrast it with Text2Emotion"
   ]
  },
  {
   "cell_type": "code",
   "execution_count": null,
   "id": "5775a749",
   "metadata": {},
   "outputs": [],
   "source": [
    "# Now use \n",
    "import text2emotion as te\n",
    "\n",
    "df = pd.read_parquet('../emtract/data/hand_tagged_sample.parquet.snappy')\n",
    "df = df[df.label!=4]\n",
    "\n",
    "def get_emotion(arg):\n",
    "    emotions = te.get_emotion(arg)\n",
    "    return [emotions['Happy'], emotions['Sad'], emotions['Angry'], emotions[\"Surprise\"], emotions['Fear']]"
   ]
  },
  {
   "cell_type": "code",
   "execution_count": null,
   "id": "cd8fe3c9",
   "metadata": {},
   "outputs": [],
   "source": [
    "import time\n",
    "start = time.time()\n",
    "df['emo'] = df['text'].apply(get_emotion)\n",
    "end = time.time()"
   ]
  },
  {
   "cell_type": "code",
   "execution_count": null,
   "id": "44d3260d",
   "metadata": {},
   "outputs": [],
   "source": [
    "df['neutral'] = df['emo'].apply(lambda x : 1 if sum(x)==0 else 0)\n",
    "df['happy'] = df['emo'].apply(lambda x : x[0]/sum(x) if sum(x)!=0 else 0)\n",
    "df['sad'] = df['emo'].apply(lambda x : x[1]/sum(x) if sum(x)!=0 else 0)\n",
    "df['anger'] = df['emo'].apply(lambda x : x[2]/sum(x) if sum(x)!=0 else 0)\n",
    "df['surprise'] =  df['emo'].apply(lambda x : x[3]/sum(x) if sum(x)!=0 else 0)\n",
    "df['fear'] =  df['emo'].apply(lambda x : x[4]/sum(x) if sum(x)!=0 else 0)\n",
    "df['pred'] = df['emo'].apply(lambda x: np.argmax(x)+1 if sum(x)!=0 else 0)"
   ]
  },
  {
   "cell_type": "code",
   "execution_count": null,
   "id": "ed4de12f",
   "metadata": {},
   "outputs": [],
   "source": [
    "print(log_loss(df.label.values, df[['neutral','happy','sad','anger','surprise','fear']].values))\n",
    "print(accuracy_score(df.label.values, df['pred'].values))\n",
    "# this seems really bad!"
   ]
  }
 ],
 "metadata": {
  "kernelspec": {
   "display_name": "Python 3",
   "language": "python",
   "name": "python3"
  },
  "language_info": {
   "codemirror_mode": {
    "name": "ipython",
    "version": 3
   },
   "file_extension": ".py",
   "mimetype": "text/x-python",
   "name": "python",
   "nbconvert_exporter": "python",
   "pygments_lexer": "ipython3",
   "version": "3.8.8"
  }
 },
 "nbformat": 4,
 "nbformat_minor": 5
}
