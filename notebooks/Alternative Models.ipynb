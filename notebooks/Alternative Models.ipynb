{
 "cells": [
  {
   "cell_type": "markdown",
   "id": "bb97fbb0",
   "metadata": {},
   "source": [
    "# Train DISTILBERT MODELS\n",
    "Evaluate them on the hand-tagged sample."
   ]
  },
  {
   "cell_type": "code",
   "execution_count": null,
   "id": "507fb85a",
   "metadata": {},
   "outputs": [],
   "source": [
    "import torch\n",
    "import transformers\n",
    "from datasets import load_dataset, Dataset, DatasetDict,  concatenate_datasets\n",
    "from transformers import Trainer, TrainingArguments, pipeline, EarlyStoppingCallback\n",
    "from sklearn.metrics import classification_report, accuracy_score, precision_recall_fscore_support, log_loss\n",
    "import pandas as pd\n",
    "import numpy as np\n",
    "from scipy.special import softmax\n",
    "from sklearn.model_selection import train_test_split\n",
    "\n",
    "MODEL_NAME = 'distilbert-base-uncased'\n",
    "BATCH_SIZE = 128\n",
    "SENTIMENT_NUM_LABELS = 2\n",
    "EMOTION_NUM_LABELS = 7\n",
    "EMOTIONS = ['neutral','happy','sad','anger','disgust','surprise','fear']\n",
    "SENTIMENTS = ['bearish','bullish']\n",
    "SEQ_LENGTH = 30\n",
    "CALLBACK =  [EarlyStoppingCallback(early_stopping_patience = 2)]\n",
    "\n",
    "def tokenize(batch):\n",
    "    return tokenizer(batch[\"text\"], padding=True, truncation=True)\n",
    "\n",
    "if torch.cuda.is_available():       \n",
    "    device = torch.device(\"cuda\")\n",
    "    print(f'There are {torch.cuda.device_count()} GPU(s) available.')\n",
    "    print('Device name:', torch.cuda.get_device_name(0))\n",
    "\n",
    "else:\n",
    "    print('No GPU available, using the CPU instead.')\n",
    "    device = torch.device(\"cpu\")\n",
    "\n",
    "def compute_metrics(pred):\n",
    "    labels = pred.label_ids\n",
    "    preds = pred.predictions.argmax(-1)\n",
    "    precision, recall, f1, _ = precision_recall_fscore_support(labels, preds, average='macro')\n",
    "    acc = accuracy_score(labels, preds)\n",
    "    return {\n",
    "        'accuracy': acc,\n",
    "        'f1': f1,\n",
    "        'precision': precision,\n",
    "        'recall': recall\n",
    "    }"
   ]
  },
  {
   "cell_type": "code",
   "execution_count": null,
   "id": "b2de15ca",
   "metadata": {},
   "outputs": [],
   "source": [
    "#Emotion Test sets\n",
    "test_df = pd.read_parquet('../emtract/data/hand_tagged_sample.parquet.snappy', columns=['text','label'])\n",
    "test_set = test_df.copy() # for the 5 class classification\n",
    "test_set = test_set[(test_set.label !=0) & (test_set.label != 4)].reset_index(drop=True)\n",
    "test_set['label'] = np.where(test_set.label ==2, 0, test_set.label)\n",
    "test_set['label'] = np.where(test_set.label==5, 7, test_set.label)\n",
    "test_set['label'] = np.where(test_set.label>=6, test_set.label-2, test_set.label)\n",
    "\n",
    "test_df = Dataset.from_pandas(test_df)\n",
    "test_set = Dataset.from_pandas(test_set)"
   ]
  },
  {
   "cell_type": "markdown",
   "id": "26ff235a",
   "metadata": {},
   "source": [
    "# Huggingface Twitter Emotion Model\n",
    "Does not have disgust and neutral. Group love and joy together."
   ]
  },
  {
   "cell_type": "code",
   "execution_count": null,
   "id": "b070d171",
   "metadata": {},
   "outputs": [],
   "source": [
    "# Prepare data\n",
    "def change_labels(examples):\n",
    "    label = examples['label']\n",
    "    if label == 0:\n",
    "        return {'label': 1}\n",
    "    if label == 1 or label == 2:\n",
    "        return {'label': 0}\n",
    "    if label >= 3:\n",
    "        return {'label': label-1}\n",
    "    return {'label': output}\n",
    "\n",
    "\n",
    "emotions = load_dataset(\"emotion\")\n",
    "\n",
    "dataset = DatasetDict({\n",
    "    'train': concatenate_datasets([emotions['train'], emotions['test']]),\n",
    "    'test': test_set,\n",
    "    'valid': emotions['test']})\n",
    "\n",
    "tokenizer = transformers.DistilBertTokenizerFast.from_pretrained(MODEL_NAME, model_max_length=SEQ_LENGTH)\n",
    "\n",
    "emotions_encoded = dataset.map(tokenize, batched=True, batch_size=None)\n",
    "emotions_encoded = emotions_encoded.map(change_labels)\n",
    "emotions_encoded.set_format(\"torch\", columns=[\"input_ids\", \"attention_mask\", \"label\"])"
   ]
  },
  {
   "cell_type": "code",
   "execution_count": null,
   "id": "15c6c0a8",
   "metadata": {},
   "outputs": [],
   "source": [
    "num_labels = 5\n",
    "logging_steps = len(emotions_encoded[\"train\"]) // BATCH_SIZE\n",
    "training_args = TrainingArguments(output_dir=\"results\",\n",
    "                                  num_train_epochs=8,\n",
    "                                  learning_rate=2e-5,\n",
    "                                  per_device_train_batch_size=BATCH_SIZE,\n",
    "                                  per_device_eval_batch_size=BATCH_SIZE*4,\n",
    "                                  load_best_model_at_end=True,\n",
    "                                  metric_for_best_model=\"loss\",\n",
    "                                  weight_decay=0.01,\n",
    "                                  evaluation_strategy=\"epoch\",\n",
    "                                  save_strategy=\"epoch\",\n",
    "                                  disable_tqdm=False)\n",
    "model = transformers.DistilBertForSequenceClassification.from_pretrained(MODEL_NAME, num_labels=num_labels).to(device)"
   ]
  },
  {
   "cell_type": "code",
   "execution_count": null,
   "id": "3db9478a",
   "metadata": {},
   "outputs": [],
   "source": [
    "trainer = Trainer(model=model, args=training_args,\n",
    "                  compute_metrics=compute_metrics,\n",
    "                  train_dataset=emotions_encoded[\"train\"],\n",
    "                  eval_dataset=emotions_encoded[\"valid\"],\n",
    "                 callbacks= CALLBACK)\n",
    "trainer.train();"
   ]
  },
  {
   "cell_type": "code",
   "execution_count": null,
   "id": "2c688359",
   "metadata": {},
   "outputs": [],
   "source": [
    "#model.save_pretrained('./models/emotion-hf')\n",
    "#tokenizer.save_pretrained('./models/emotion-hf')\n",
    "\n",
    "preds_output = trainer.predict(emotions_encoded[\"test\"])\n",
    "print(preds_output.metrics)\n",
    "\n",
    "m = softmax(preds_output[0], axis=1)"
   ]
  },
  {
   "cell_type": "code",
   "execution_count": null,
   "id": "6914fcfa",
   "metadata": {},
   "outputs": [],
   "source": [
    "target_names = ['happy','sad','anger','fear','surprise']\n",
    "print(classification_report(preds_output[1], np.argmax(m, axis=1), target_names=target_names))"
   ]
  },
  {
   "cell_type": "markdown",
   "id": "d672e5ad",
   "metadata": {},
   "source": [
    "# StockTwits Hand-Tagged\n",
    "Use 8k observations for training/validation and hold out 2k for testing."
   ]
  },
  {
   "cell_type": "code",
   "execution_count": null,
   "id": "b459426d",
   "metadata": {},
   "outputs": [],
   "source": [
    "tokenizer = transformers.DistilBertTokenizerFast.from_pretrained(MODEL_NAME, model_max_length=SEQ_LENGTH)\n",
    "model = transformers.DistilBertForSequenceClassification.from_pretrained(MODEL_NAME, num_labels=EMOTION_NUM_LABELS).to(device)"
   ]
  },
  {
   "cell_type": "code",
   "execution_count": null,
   "id": "3bc35122",
   "metadata": {},
   "outputs": [],
   "source": [
    "train_testvalid = test_df.train_test_split(test_size=0.4)\n",
    "test_valid = train_testvalid['test'].train_test_split(test_size=0.5)\n",
    "dataset = DatasetDict({\n",
    "    'train': train_testvalid['train'],\n",
    "    'test': test_valid['test'],\n",
    "    'valid': test_valid['train']})\n",
    "emotions_encoded = dataset.map(tokenize, batched=True, batch_size=None)\n",
    "emotions_encoded.set_format(\"torch\", columns=[\"input_ids\", \"attention_mask\", \"label\"])"
   ]
  },
  {
   "cell_type": "code",
   "execution_count": null,
   "id": "825b2bf1",
   "metadata": {},
   "outputs": [],
   "source": [
    "logging_steps = len(emotions_encoded[\"train\"]) // BATCH_SIZE\n",
    "training_args = TrainingArguments(output_dir=\"results\",\n",
    "                                  num_train_epochs=8,\n",
    "                                  learning_rate=2e-5,\n",
    "                                  per_device_train_batch_size=BATCH_SIZE,\n",
    "                                  per_device_eval_batch_size=BATCH_SIZE*4,\n",
    "                                  load_best_model_at_end=True,\n",
    "                                  metric_for_best_model=\"loss\",\n",
    "                                  weight_decay=0.01,\n",
    "                                  evaluation_strategy=\"epoch\",\n",
    "                                  save_strategy=\"epoch\",\n",
    "                                  disable_tqdm=False)\n",
    "\n",
    "trainer = Trainer(model=model, args=training_args,\n",
    "                  compute_metrics=compute_metrics,\n",
    "                  train_dataset=emotions_encoded[\"train\"],\n",
    "                  eval_dataset=emotions_encoded[\"valid\"],\n",
    "                   callbacks= CALLBACK)\n",
    "trainer.train();"
   ]
  },
  {
   "cell_type": "code",
   "execution_count": null,
   "id": "a9209114",
   "metadata": {},
   "outputs": [],
   "source": [
    "preds_output = trainer.predict(emotions_encoded[\"test\"])\n",
    "print(preds_output.metrics)\n",
    "\n",
    "m = softmax(preds_output[0], axis=1)\n",
    "\n",
    "print(classification_report(preds_output[1], np.argmax(m, axis=1), target_names=EMOTIONS))"
   ]
  },
  {
   "cell_type": "markdown",
   "id": "d881ce19",
   "metadata": {},
   "source": [
    "# Twitter Emotion"
   ]
  },
  {
   "cell_type": "code",
   "execution_count": null,
   "id": "56fecca3",
   "metadata": {},
   "outputs": [],
   "source": [
    "dataset = Dataset.from_pandas(pd.read_parquet('../emtract/data/twitter_emotion_cleaned.parquet.snappy', columns=['text','label']))\n",
    "\n",
    "# 90% train, 10% test + validation\n",
    "train_testvalid = dataset.train_test_split(test_size=0.2)\n",
    "\n",
    "# gather everyone if you want to have a single DatasetDict\n",
    "dataset = DatasetDict({\n",
    "    'train': train_testvalid['train'],\n",
    "    'test': test_df,\n",
    "    'valid': train_testvalid['test']})"
   ]
  },
  {
   "cell_type": "code",
   "execution_count": null,
   "id": "5b952048",
   "metadata": {},
   "outputs": [],
   "source": [
    "tokenizer = transformers.DistilBertTokenizerFast.from_pretrained(MODEL_NAME, model_max_length=SEQ_LENGTH)\n",
    "model = transformers.DistilBertForSequenceClassification.from_pretrained(MODEL_NAME, num_labels=EMOTION_NUM_LABELS).to(device)\n",
    "emotions_encoded = dataset.map(tokenize, batched=True, batch_size=None)\n",
    "emotions_encoded.set_format(\"torch\", columns=[\"input_ids\", \"attention_mask\", \"label\"])"
   ]
  },
  {
   "cell_type": "code",
   "execution_count": null,
   "id": "b03099de",
   "metadata": {},
   "outputs": [],
   "source": [
    "logging_steps = len(emotions_encoded[\"train\"]) // BATCH_SIZE\n",
    "training_args = TrainingArguments(output_dir=\"results\",\n",
    "                                  num_train_epochs=8,\n",
    "                                  learning_rate=2e-5,\n",
    "                                  per_device_train_batch_size=BATCH_SIZE,\n",
    "                                  per_device_eval_batch_size=BATCH_SIZE*4,\n",
    "                                  load_best_model_at_end=True,\n",
    "                                  metric_for_best_model=\"loss\",\n",
    "                                  weight_decay=0.01,\n",
    "                                  evaluation_strategy=\"epoch\",\n",
    "                                  save_strategy=\"epoch\",\n",
    "                                  disable_tqdm=False)\n",
    "\n",
    "trainer = Trainer(model=model, args=training_args,\n",
    "                  compute_metrics=compute_metrics,\n",
    "                  train_dataset=emotions_encoded[\"train\"],\n",
    "                  eval_dataset=emotions_encoded[\"valid\"],\n",
    "                  callbacks = CALLBACK)\n",
    "trainer.train();"
   ]
  },
  {
   "cell_type": "code",
   "execution_count": null,
   "id": "3ba16819",
   "metadata": {},
   "outputs": [],
   "source": [
    "preds_output = trainer.predict(emotions_encoded[\"test\"])\n",
    "print(preds_output.metrics)\n",
    "\n",
    "m = softmax(preds_output[0], axis=1)\n",
    "\n",
    "print(classification_report(preds_output[1], np.argmax(m, axis=1), target_names=EMOTIONS))"
   ]
  }
 ],
 "metadata": {
  "kernelspec": {
   "display_name": "Python 3",
   "language": "python",
   "name": "python3"
  },
  "language_info": {
   "codemirror_mode": {
    "name": "ipython",
    "version": 3
   },
   "file_extension": ".py",
   "mimetype": "text/x-python",
   "name": "python",
   "nbconvert_exporter": "python",
   "pygments_lexer": "ipython3",
   "version": "3.8.8"
  }
 },
 "nbformat": 4,
 "nbformat_minor": 5
}
